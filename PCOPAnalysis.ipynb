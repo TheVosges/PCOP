{
 "cells": [
  {
   "cell_type": "markdown",
   "metadata": {},
   "source": [
    "# PCOP Analysis"
   ]
  },
  {
   "cell_type": "code",
   "execution_count": 3,
   "metadata": {},
   "outputs": [],
   "source": [
    "import torch\n",
    "from torch.utils.data import DataLoader, Dataset\n",
    "from transformers import AutoModelForSequenceClassification, AutoTokenizer, AdamW\n",
    "from sklearn.metrics import f1_score, accuracy_score\n",
    "import numpy as np\n",
    "import os\n",
    "from datasets import load_from_disk, DatasetDict\n",
    "import matplotlib.pyplot as plt\n",
    "from sklearn.metrics import f1_score\n",
    "from transformers import PreTrainedModel, PretrainedConfig\n",
    "from transformers.modeling_outputs import SequenceClassifierOutput\n",
    "from transformers import AutoConfig"
   ]
  },
  {
   "cell_type": "code",
   "execution_count": 4,
   "metadata": {},
   "outputs": [
    {
     "name": "stdout",
     "output_type": "stream",
     "text": [
      "Using device: cuda\n"
     ]
    }
   ],
   "source": [
    "device = torch.device(\"cuda\" if torch.cuda.is_available() else \"cpu\")\n",
    "print(f\"Using device: {device}\")"
   ]
  },
  {
   "cell_type": "code",
   "execution_count": 5,
   "metadata": {},
   "outputs": [],
   "source": [
    "script_dir = os.path.abspath('')\n",
    "dataset_folder = os.path.join(script_dir, \"../../datasets/PCOP/data\")\n",
    "annotations_folder = os.path.join(script_dir, \"../../datasets/PCOP\")\n",
    "output_folder = os.path.join(script_dir, \"../../datasets/PCOP\")"
   ]
  },
  {
   "cell_type": "code",
   "execution_count": 6,
   "metadata": {},
   "outputs": [],
   "source": [
    "tokenizer = AutoTokenizer.from_pretrained(\"allegro/herbert-base-cased\")"
   ]
  },
  {
   "cell_type": "code",
   "execution_count": 7,
   "metadata": {},
   "outputs": [],
   "source": [
    "dataset = load_from_disk(annotations_folder)"
   ]
  },
  {
   "cell_type": "code",
   "execution_count": 8,
   "metadata": {},
   "outputs": [],
   "source": [
    "def tokenize_function(examples):\n",
    "    return tokenizer(examples[\"text\"], padding=\"max_length\", truncation=True, max_length=512)\n",
    "\n",
    "tokenized_datasets = dataset.map(tokenize_function, batched=True)\n",
    "train_test_split = tokenized_datasets.train_test_split(test_size=0.2)\n",
    "train_test_split = DatasetDict({\n",
    "    'train': train_test_split['train'],\n",
    "    'test': train_test_split['test']\n",
    "})\n",
    "train_test_split.set_format(type='torch', columns=['input_ids', 'attention_mask', 'labels'])"
   ]
  },
  {
   "cell_type": "code",
   "execution_count": 9,
   "metadata": {},
   "outputs": [],
   "source": [
    "def collate_fn(batch):\n",
    "    input_ids = torch.stack([item['input_ids'] for item in batch])\n",
    "    attention_mask = torch.stack([item['attention_mask'] for item in batch])\n",
    "    labels = torch.stack([item['labels'] for item in batch])\n",
    "    return {\"input_ids\": input_ids, \"attention_mask\": attention_mask}, labels"
   ]
  },
  {
   "cell_type": "code",
   "execution_count": 10,
   "metadata": {},
   "outputs": [],
   "source": [
    "train_loader = DataLoader(train_test_split['train'], batch_size=8, collate_fn=collate_fn)\n",
    "test_loader = DataLoader(train_test_split['test'], batch_size=8, collate_fn=collate_fn)"
   ]
  },
  {
   "cell_type": "code",
   "execution_count": 11,
   "metadata": {},
   "outputs": [],
   "source": [
    "class HerBERTForMultiLabelClassification(PreTrainedModel):\n",
    "    def __init__(self, config):\n",
    "        super().__init__(config)\n",
    "        self.num_labels = config.num_labels\n",
    "        self.herbert = AutoModelForSequenceClassification.from_pretrained(\"allegro/herbert-base-cased\", config=config)\n",
    "\n",
    "    def forward(\n",
    "        self,\n",
    "        input_ids=None,\n",
    "        attention_mask=None,\n",
    "        labels=None,\n",
    "    ):\n",
    "        outputs = self.herbert(input_ids=input_ids, attention_mask=attention_mask)\n",
    "        \n",
    "        logits = outputs.logits\n",
    "        \n",
    "        loss = None\n",
    "        if labels is not None:\n",
    "            loss_fct = torch.nn.BCEWithLogitsLoss()\n",
    "            loss = loss_fct(logits.view(-1, self.num_labels), labels.float().view(-1, self.num_labels))\n",
    "\n",
    "        return SequenceClassifierOutput(\n",
    "            loss=loss,\n",
    "            logits=logits,\n",
    "            hidden_states=outputs.hidden_states,\n",
    "            attentions=outputs.attentions,\n",
    "        )"
   ]
  },
  {
   "cell_type": "code",
   "execution_count": 12,
   "metadata": {},
   "outputs": [],
   "source": [
    "num_classes = len(dataset['labels'][0][0])"
   ]
  },
  {
   "cell_type": "code",
   "execution_count": 13,
   "metadata": {},
   "outputs": [
    {
     "name": "stderr",
     "output_type": "stream",
     "text": [
      "C:\\Users\\arkad\\AppData\\Local\\Packages\\PythonSoftwareFoundation.Python.3.10_qbz5n2kfra8p0\\LocalCache\\local-packages\\Python310\\site-packages\\torch\\_utils.py:831: UserWarning: TypedStorage is deprecated. It will be removed in the future and UntypedStorage will be the only storage class. This should only matter to you if you are using storages directly.  To access UntypedStorage directly, use tensor.untyped_storage() instead of tensor.storage()\n",
      "  return self.fget.__get__(instance, owner)()\n",
      "Some weights of BertForSequenceClassification were not initialized from the model checkpoint at allegro/herbert-base-cased and are newly initialized: ['classifier.bias', 'classifier.weight']\n",
      "You should probably TRAIN this model on a down-stream task to be able to use it for predictions and inference.\n",
      "Some weights of HerBERTForMultiLabelClassification were not initialized from the model checkpoint at allegro/herbert-base-cased and are newly initialized: ['herbert.bert.embeddings.LayerNorm.bias', 'herbert.bert.embeddings.LayerNorm.weight', 'herbert.bert.embeddings.position_embeddings.weight', 'herbert.bert.embeddings.token_type_embeddings.weight', 'herbert.bert.embeddings.word_embeddings.weight', 'herbert.bert.encoder.layer.0.attention.output.LayerNorm.bias', 'herbert.bert.encoder.layer.0.attention.output.LayerNorm.weight', 'herbert.bert.encoder.layer.0.attention.output.dense.bias', 'herbert.bert.encoder.layer.0.attention.output.dense.weight', 'herbert.bert.encoder.layer.0.attention.self.key.bias', 'herbert.bert.encoder.layer.0.attention.self.key.weight', 'herbert.bert.encoder.layer.0.attention.self.query.bias', 'herbert.bert.encoder.layer.0.attention.self.query.weight', 'herbert.bert.encoder.layer.0.attention.self.value.bias', 'herbert.bert.encoder.layer.0.attention.self.value.weight', 'herbert.bert.encoder.layer.0.intermediate.dense.bias', 'herbert.bert.encoder.layer.0.intermediate.dense.weight', 'herbert.bert.encoder.layer.0.output.LayerNorm.bias', 'herbert.bert.encoder.layer.0.output.LayerNorm.weight', 'herbert.bert.encoder.layer.0.output.dense.bias', 'herbert.bert.encoder.layer.0.output.dense.weight', 'herbert.bert.encoder.layer.1.attention.output.LayerNorm.bias', 'herbert.bert.encoder.layer.1.attention.output.LayerNorm.weight', 'herbert.bert.encoder.layer.1.attention.output.dense.bias', 'herbert.bert.encoder.layer.1.attention.output.dense.weight', 'herbert.bert.encoder.layer.1.attention.self.key.bias', 'herbert.bert.encoder.layer.1.attention.self.key.weight', 'herbert.bert.encoder.layer.1.attention.self.query.bias', 'herbert.bert.encoder.layer.1.attention.self.query.weight', 'herbert.bert.encoder.layer.1.attention.self.value.bias', 'herbert.bert.encoder.layer.1.attention.self.value.weight', 'herbert.bert.encoder.layer.1.intermediate.dense.bias', 'herbert.bert.encoder.layer.1.intermediate.dense.weight', 'herbert.bert.encoder.layer.1.output.LayerNorm.bias', 'herbert.bert.encoder.layer.1.output.LayerNorm.weight', 'herbert.bert.encoder.layer.1.output.dense.bias', 'herbert.bert.encoder.layer.1.output.dense.weight', 'herbert.bert.encoder.layer.10.attention.output.LayerNorm.bias', 'herbert.bert.encoder.layer.10.attention.output.LayerNorm.weight', 'herbert.bert.encoder.layer.10.attention.output.dense.bias', 'herbert.bert.encoder.layer.10.attention.output.dense.weight', 'herbert.bert.encoder.layer.10.attention.self.key.bias', 'herbert.bert.encoder.layer.10.attention.self.key.weight', 'herbert.bert.encoder.layer.10.attention.self.query.bias', 'herbert.bert.encoder.layer.10.attention.self.query.weight', 'herbert.bert.encoder.layer.10.attention.self.value.bias', 'herbert.bert.encoder.layer.10.attention.self.value.weight', 'herbert.bert.encoder.layer.10.intermediate.dense.bias', 'herbert.bert.encoder.layer.10.intermediate.dense.weight', 'herbert.bert.encoder.layer.10.output.LayerNorm.bias', 'herbert.bert.encoder.layer.10.output.LayerNorm.weight', 'herbert.bert.encoder.layer.10.output.dense.bias', 'herbert.bert.encoder.layer.10.output.dense.weight', 'herbert.bert.encoder.layer.11.attention.output.LayerNorm.bias', 'herbert.bert.encoder.layer.11.attention.output.LayerNorm.weight', 'herbert.bert.encoder.layer.11.attention.output.dense.bias', 'herbert.bert.encoder.layer.11.attention.output.dense.weight', 'herbert.bert.encoder.layer.11.attention.self.key.bias', 'herbert.bert.encoder.layer.11.attention.self.key.weight', 'herbert.bert.encoder.layer.11.attention.self.query.bias', 'herbert.bert.encoder.layer.11.attention.self.query.weight', 'herbert.bert.encoder.layer.11.attention.self.value.bias', 'herbert.bert.encoder.layer.11.attention.self.value.weight', 'herbert.bert.encoder.layer.11.intermediate.dense.bias', 'herbert.bert.encoder.layer.11.intermediate.dense.weight', 'herbert.bert.encoder.layer.11.output.LayerNorm.bias', 'herbert.bert.encoder.layer.11.output.LayerNorm.weight', 'herbert.bert.encoder.layer.11.output.dense.bias', 'herbert.bert.encoder.layer.11.output.dense.weight', 'herbert.bert.encoder.layer.2.attention.output.LayerNorm.bias', 'herbert.bert.encoder.layer.2.attention.output.LayerNorm.weight', 'herbert.bert.encoder.layer.2.attention.output.dense.bias', 'herbert.bert.encoder.layer.2.attention.output.dense.weight', 'herbert.bert.encoder.layer.2.attention.self.key.bias', 'herbert.bert.encoder.layer.2.attention.self.key.weight', 'herbert.bert.encoder.layer.2.attention.self.query.bias', 'herbert.bert.encoder.layer.2.attention.self.query.weight', 'herbert.bert.encoder.layer.2.attention.self.value.bias', 'herbert.bert.encoder.layer.2.attention.self.value.weight', 'herbert.bert.encoder.layer.2.intermediate.dense.bias', 'herbert.bert.encoder.layer.2.intermediate.dense.weight', 'herbert.bert.encoder.layer.2.output.LayerNorm.bias', 'herbert.bert.encoder.layer.2.output.LayerNorm.weight', 'herbert.bert.encoder.layer.2.output.dense.bias', 'herbert.bert.encoder.layer.2.output.dense.weight', 'herbert.bert.encoder.layer.3.attention.output.LayerNorm.bias', 'herbert.bert.encoder.layer.3.attention.output.LayerNorm.weight', 'herbert.bert.encoder.layer.3.attention.output.dense.bias', 'herbert.bert.encoder.layer.3.attention.output.dense.weight', 'herbert.bert.encoder.layer.3.attention.self.key.bias', 'herbert.bert.encoder.layer.3.attention.self.key.weight', 'herbert.bert.encoder.layer.3.attention.self.query.bias', 'herbert.bert.encoder.layer.3.attention.self.query.weight', 'herbert.bert.encoder.layer.3.attention.self.value.bias', 'herbert.bert.encoder.layer.3.attention.self.value.weight', 'herbert.bert.encoder.layer.3.intermediate.dense.bias', 'herbert.bert.encoder.layer.3.intermediate.dense.weight', 'herbert.bert.encoder.layer.3.output.LayerNorm.bias', 'herbert.bert.encoder.layer.3.output.LayerNorm.weight', 'herbert.bert.encoder.layer.3.output.dense.bias', 'herbert.bert.encoder.layer.3.output.dense.weight', 'herbert.bert.encoder.layer.4.attention.output.LayerNorm.bias', 'herbert.bert.encoder.layer.4.attention.output.LayerNorm.weight', 'herbert.bert.encoder.layer.4.attention.output.dense.bias', 'herbert.bert.encoder.layer.4.attention.output.dense.weight', 'herbert.bert.encoder.layer.4.attention.self.key.bias', 'herbert.bert.encoder.layer.4.attention.self.key.weight', 'herbert.bert.encoder.layer.4.attention.self.query.bias', 'herbert.bert.encoder.layer.4.attention.self.query.weight', 'herbert.bert.encoder.layer.4.attention.self.value.bias', 'herbert.bert.encoder.layer.4.attention.self.value.weight', 'herbert.bert.encoder.layer.4.intermediate.dense.bias', 'herbert.bert.encoder.layer.4.intermediate.dense.weight', 'herbert.bert.encoder.layer.4.output.LayerNorm.bias', 'herbert.bert.encoder.layer.4.output.LayerNorm.weight', 'herbert.bert.encoder.layer.4.output.dense.bias', 'herbert.bert.encoder.layer.4.output.dense.weight', 'herbert.bert.encoder.layer.5.attention.output.LayerNorm.bias', 'herbert.bert.encoder.layer.5.attention.output.LayerNorm.weight', 'herbert.bert.encoder.layer.5.attention.output.dense.bias', 'herbert.bert.encoder.layer.5.attention.output.dense.weight', 'herbert.bert.encoder.layer.5.attention.self.key.bias', 'herbert.bert.encoder.layer.5.attention.self.key.weight', 'herbert.bert.encoder.layer.5.attention.self.query.bias', 'herbert.bert.encoder.layer.5.attention.self.query.weight', 'herbert.bert.encoder.layer.5.attention.self.value.bias', 'herbert.bert.encoder.layer.5.attention.self.value.weight', 'herbert.bert.encoder.layer.5.intermediate.dense.bias', 'herbert.bert.encoder.layer.5.intermediate.dense.weight', 'herbert.bert.encoder.layer.5.output.LayerNorm.bias', 'herbert.bert.encoder.layer.5.output.LayerNorm.weight', 'herbert.bert.encoder.layer.5.output.dense.bias', 'herbert.bert.encoder.layer.5.output.dense.weight', 'herbert.bert.encoder.layer.6.attention.output.LayerNorm.bias', 'herbert.bert.encoder.layer.6.attention.output.LayerNorm.weight', 'herbert.bert.encoder.layer.6.attention.output.dense.bias', 'herbert.bert.encoder.layer.6.attention.output.dense.weight', 'herbert.bert.encoder.layer.6.attention.self.key.bias', 'herbert.bert.encoder.layer.6.attention.self.key.weight', 'herbert.bert.encoder.layer.6.attention.self.query.bias', 'herbert.bert.encoder.layer.6.attention.self.query.weight', 'herbert.bert.encoder.layer.6.attention.self.value.bias', 'herbert.bert.encoder.layer.6.attention.self.value.weight', 'herbert.bert.encoder.layer.6.intermediate.dense.bias', 'herbert.bert.encoder.layer.6.intermediate.dense.weight', 'herbert.bert.encoder.layer.6.output.LayerNorm.bias', 'herbert.bert.encoder.layer.6.output.LayerNorm.weight', 'herbert.bert.encoder.layer.6.output.dense.bias', 'herbert.bert.encoder.layer.6.output.dense.weight', 'herbert.bert.encoder.layer.7.attention.output.LayerNorm.bias', 'herbert.bert.encoder.layer.7.attention.output.LayerNorm.weight', 'herbert.bert.encoder.layer.7.attention.output.dense.bias', 'herbert.bert.encoder.layer.7.attention.output.dense.weight', 'herbert.bert.encoder.layer.7.attention.self.key.bias', 'herbert.bert.encoder.layer.7.attention.self.key.weight', 'herbert.bert.encoder.layer.7.attention.self.query.bias', 'herbert.bert.encoder.layer.7.attention.self.query.weight', 'herbert.bert.encoder.layer.7.attention.self.value.bias', 'herbert.bert.encoder.layer.7.attention.self.value.weight', 'herbert.bert.encoder.layer.7.intermediate.dense.bias', 'herbert.bert.encoder.layer.7.intermediate.dense.weight', 'herbert.bert.encoder.layer.7.output.LayerNorm.bias', 'herbert.bert.encoder.layer.7.output.LayerNorm.weight', 'herbert.bert.encoder.layer.7.output.dense.bias', 'herbert.bert.encoder.layer.7.output.dense.weight', 'herbert.bert.encoder.layer.8.attention.output.LayerNorm.bias', 'herbert.bert.encoder.layer.8.attention.output.LayerNorm.weight', 'herbert.bert.encoder.layer.8.attention.output.dense.bias', 'herbert.bert.encoder.layer.8.attention.output.dense.weight', 'herbert.bert.encoder.layer.8.attention.self.key.bias', 'herbert.bert.encoder.layer.8.attention.self.key.weight', 'herbert.bert.encoder.layer.8.attention.self.query.bias', 'herbert.bert.encoder.layer.8.attention.self.query.weight', 'herbert.bert.encoder.layer.8.attention.self.value.bias', 'herbert.bert.encoder.layer.8.attention.self.value.weight', 'herbert.bert.encoder.layer.8.intermediate.dense.bias', 'herbert.bert.encoder.layer.8.intermediate.dense.weight', 'herbert.bert.encoder.layer.8.output.LayerNorm.bias', 'herbert.bert.encoder.layer.8.output.LayerNorm.weight', 'herbert.bert.encoder.layer.8.output.dense.bias', 'herbert.bert.encoder.layer.8.output.dense.weight', 'herbert.bert.encoder.layer.9.attention.output.LayerNorm.bias', 'herbert.bert.encoder.layer.9.attention.output.LayerNorm.weight', 'herbert.bert.encoder.layer.9.attention.output.dense.bias', 'herbert.bert.encoder.layer.9.attention.output.dense.weight', 'herbert.bert.encoder.layer.9.attention.self.key.bias', 'herbert.bert.encoder.layer.9.attention.self.key.weight', 'herbert.bert.encoder.layer.9.attention.self.query.bias', 'herbert.bert.encoder.layer.9.attention.self.query.weight', 'herbert.bert.encoder.layer.9.attention.self.value.bias', 'herbert.bert.encoder.layer.9.attention.self.value.weight', 'herbert.bert.encoder.layer.9.intermediate.dense.bias', 'herbert.bert.encoder.layer.9.intermediate.dense.weight', 'herbert.bert.encoder.layer.9.output.LayerNorm.bias', 'herbert.bert.encoder.layer.9.output.LayerNorm.weight', 'herbert.bert.encoder.layer.9.output.dense.bias', 'herbert.bert.encoder.layer.9.output.dense.weight', 'herbert.bert.pooler.dense.bias', 'herbert.bert.pooler.dense.weight', 'herbert.classifier.bias', 'herbert.classifier.weight']\n",
      "You should probably TRAIN this model on a down-stream task to be able to use it for predictions and inference.\n"
     ]
    }
   ],
   "source": [
    "config = AutoConfig.from_pretrained(\"allegro/herbert-base-cased\")\n",
    "config.num_labels = num_classes\n",
    "\n",
    "# Initialize the model\n",
    "model = HerBERTForMultiLabelClassification.from_pretrained(\n",
    "    \"allegro/herbert-base-cased\",\n",
    "    config=config\n",
    ").to(device)"
   ]
  },
  {
   "cell_type": "code",
   "execution_count": 14,
   "metadata": {},
   "outputs": [
    {
     "name": "stderr",
     "output_type": "stream",
     "text": [
      "C:\\Users\\arkad\\AppData\\Local\\Packages\\PythonSoftwareFoundation.Python.3.10_qbz5n2kfra8p0\\LocalCache\\local-packages\\Python310\\site-packages\\transformers\\optimization.py:429: FutureWarning: This implementation of AdamW is deprecated and will be removed in a future version. Use the PyTorch implementation torch.optim.AdamW instead, or set `no_deprecation_warning=True` to disable this warning\n",
      "  warnings.warn(\n"
     ]
    }
   ],
   "source": [
    "optimizer = AdamW(model.parameters(), lr=5e-5)"
   ]
  },
  {
   "cell_type": "code",
   "execution_count": 15,
   "metadata": {},
   "outputs": [
    {
     "name": "stdout",
     "output_type": "stream",
     "text": [
      "Epoch: 1, Batch: 0, Loss: 0.7015587091445923\n",
      "Epoch: 1, Batch: 10, Loss: 0.5278341174125671\n",
      "Epoch: 1, Batch: 20, Loss: 0.40939566493034363\n",
      "Epoch: 1, Batch: 30, Loss: 0.3051389157772064\n",
      "Epoch: 1, Batch: 40, Loss: 0.2334408015012741\n",
      "Epoch: 1, Batch: 50, Loss: 0.17955203354358673\n",
      "Epoch: 1, Batch: 60, Loss: 0.14155268669128418\n",
      "Epoch: 1, Batch: 70, Loss: 0.10849737375974655\n",
      "Epoch: 1, Batch: 80, Loss: 0.09820429235696793\n",
      "Epoch: 1, Batch: 90, Loss: 0.09147662669420242\n",
      "Epoch: 1, Batch: 100, Loss: 0.08891666680574417\n",
      "Epoch: 1, Batch: 110, Loss: 0.0731179416179657\n",
      "Epoch: 1, Batch: 120, Loss: 0.07221600413322449\n",
      "Epoch: 1, Batch: 130, Loss: 0.05765093117952347\n",
      "Epoch: 1, Batch: 140, Loss: 0.06846106052398682\n",
      "Epoch: 1, Batch: 150, Loss: 0.06881045550107956\n",
      "Epoch: 1, Batch: 160, Loss: 0.0638841837644577\n",
      "Epoch: 1, Batch: 170, Loss: 0.07177113741636276\n",
      "Epoch: 1, Batch: 180, Loss: 0.07121806591749191\n",
      "Epoch: 1, Batch: 190, Loss: 0.06269090622663498\n",
      "Epoch: 1, Batch: 200, Loss: 0.058961499482393265\n",
      "Epoch: 1, Batch: 210, Loss: 0.06551320105791092\n",
      "Epoch: 1, Batch: 220, Loss: 0.05547435209155083\n",
      "Epoch: 1, Batch: 230, Loss: 0.049694716930389404\n",
      "Epoch: 1, Batch: 240, Loss: 0.052042990922927856\n",
      "Epoch: 1, Batch: 250, Loss: 0.06804904341697693\n",
      "Epoch: 1, Batch: 260, Loss: 0.042582932859659195\n",
      "Epoch: 1, Batch: 270, Loss: 0.049016691744327545\n",
      "Epoch: 1, Batch: 280, Loss: 0.05124348774552345\n",
      "Epoch: 1, Batch: 290, Loss: 0.03256359323859215\n",
      "Epoch: 1, Batch: 300, Loss: 0.042120546102523804\n",
      "Epoch: 1, Batch: 310, Loss: 0.05121053755283356\n",
      "Epoch: 1, Batch: 320, Loss: 0.07234982401132584\n",
      "Epoch: 1, Batch: 330, Loss: 0.06737739592790604\n",
      "Epoch: 1, Batch: 340, Loss: 0.04988103732466698\n",
      "Epoch: 1, Batch: 350, Loss: 0.040515653789043427\n",
      "Epoch: 1, Batch: 360, Loss: 0.07138007134199142\n",
      "Epoch: 1, Batch: 370, Loss: 0.05199138820171356\n",
      "Epoch: 1, Batch: 380, Loss: 0.05603331699967384\n",
      "Epoch: 1, Batch: 390, Loss: 0.04044143855571747\n",
      "Epoch: 1, Batch: 400, Loss: 0.0506027452647686\n",
      "Epoch: 1, Batch: 410, Loss: 0.04384293779730797\n",
      "Epoch: 1, Batch: 420, Loss: 0.04215662181377411\n",
      "Epoch: 1, Batch: 430, Loss: 0.05247455835342407\n",
      "Epoch: 1, Batch: 440, Loss: 0.05370808765292168\n",
      "Epoch: 1, Batch: 450, Loss: 0.059415098279714584\n",
      "Epoch: 1, Batch: 460, Loss: 0.03363524377346039\n",
      "Epoch: 1, Batch: 470, Loss: 0.06828044354915619\n",
      "Epoch: 1, Batch: 480, Loss: 0.05532616004347801\n",
      "Epoch: 1, Batch: 490, Loss: 0.05527926981449127\n",
      "Epoch: 1, Batch: 500, Loss: 0.0719885602593422\n",
      "Epoch: 1, Batch: 510, Loss: 0.053363047540187836\n",
      "Epoch: 1, Batch: 520, Loss: 0.05168704316020012\n",
      "Epoch: 1, Batch: 530, Loss: 0.04645831137895584\n",
      "Epoch: 1, Batch: 540, Loss: 0.040060244500637054\n",
      "Epoch: 1, Batch: 550, Loss: 0.05212269723415375\n",
      "Epoch: 1, Batch: 560, Loss: 0.04328096657991409\n",
      "Epoch: 1, Batch: 570, Loss: 0.042274851351976395\n",
      "Epoch: 1, Batch: 580, Loss: 0.0483337938785553\n",
      "Average Training Loss at Epoch 1: 0.08925064854119388\n",
      "Average Validation Loss at Epoch 1: 0.05112691839825209\n",
      "Epoch: 2, Batch: 0, Loss: 0.04932250455021858\n",
      "Epoch: 2, Batch: 10, Loss: 0.05842224508523941\n",
      "Epoch: 2, Batch: 20, Loss: 0.07438093423843384\n",
      "Epoch: 2, Batch: 30, Loss: 0.050186242908239365\n",
      "Epoch: 2, Batch: 40, Loss: 0.048741843551397324\n",
      "Epoch: 2, Batch: 50, Loss: 0.053725406527519226\n",
      "Epoch: 2, Batch: 60, Loss: 0.046948935836553574\n",
      "Epoch: 2, Batch: 70, Loss: 0.029212594032287598\n",
      "Epoch: 2, Batch: 80, Loss: 0.04110768437385559\n",
      "Epoch: 2, Batch: 90, Loss: 0.04753434658050537\n",
      "Epoch: 2, Batch: 100, Loss: 0.05667268857359886\n",
      "Epoch: 2, Batch: 110, Loss: 0.04342501610517502\n",
      "Epoch: 2, Batch: 120, Loss: 0.05024679750204086\n",
      "Epoch: 2, Batch: 130, Loss: 0.03559669479727745\n",
      "Epoch: 2, Batch: 140, Loss: 0.053017303347587585\n",
      "Epoch: 2, Batch: 150, Loss: 0.05462421476840973\n",
      "Epoch: 2, Batch: 160, Loss: 0.050983838737010956\n",
      "Epoch: 2, Batch: 170, Loss: 0.0658891424536705\n",
      "Epoch: 2, Batch: 180, Loss: 0.0636054277420044\n",
      "Epoch: 2, Batch: 190, Loss: 0.05757048726081848\n",
      "Epoch: 2, Batch: 200, Loss: 0.05167790502309799\n",
      "Epoch: 2, Batch: 210, Loss: 0.061290495097637177\n",
      "Epoch: 2, Batch: 220, Loss: 0.0493682324886322\n",
      "Epoch: 2, Batch: 230, Loss: 0.04349135607481003\n",
      "Epoch: 2, Batch: 240, Loss: 0.046072203665971756\n",
      "Epoch: 2, Batch: 250, Loss: 0.06551133841276169\n",
      "Epoch: 2, Batch: 260, Loss: 0.03750792145729065\n",
      "Epoch: 2, Batch: 270, Loss: 0.04512447863817215\n",
      "Epoch: 2, Batch: 280, Loss: 0.04715492203831673\n",
      "Epoch: 2, Batch: 290, Loss: 0.02910795621573925\n",
      "Epoch: 2, Batch: 300, Loss: 0.0381801538169384\n",
      "Epoch: 2, Batch: 310, Loss: 0.04831082373857498\n",
      "Epoch: 2, Batch: 320, Loss: 0.07185950130224228\n",
      "Epoch: 2, Batch: 330, Loss: 0.06851599365472794\n",
      "Epoch: 2, Batch: 340, Loss: 0.04835249111056328\n",
      "Epoch: 2, Batch: 350, Loss: 0.03856496140360832\n",
      "Epoch: 2, Batch: 360, Loss: 0.07376262545585632\n",
      "Epoch: 2, Batch: 370, Loss: 0.051463719457387924\n",
      "Epoch: 2, Batch: 380, Loss: 0.05536495894193649\n",
      "Epoch: 2, Batch: 390, Loss: 0.039861638098955154\n",
      "Epoch: 2, Batch: 400, Loss: 0.049954552203416824\n",
      "Epoch: 2, Batch: 410, Loss: 0.04129612073302269\n",
      "Epoch: 2, Batch: 420, Loss: 0.04063551500439644\n",
      "Epoch: 2, Batch: 430, Loss: 0.05393470451235771\n",
      "Epoch: 2, Batch: 440, Loss: 0.05299482122063637\n",
      "Epoch: 2, Batch: 450, Loss: 0.05982700362801552\n",
      "Epoch: 2, Batch: 460, Loss: 0.0324208103120327\n",
      "Epoch: 2, Batch: 470, Loss: 0.06844685226678848\n",
      "Epoch: 2, Batch: 480, Loss: 0.05375346541404724\n",
      "Epoch: 2, Batch: 490, Loss: 0.05359005555510521\n",
      "Epoch: 2, Batch: 500, Loss: 0.07145437598228455\n",
      "Epoch: 2, Batch: 510, Loss: 0.05328395217657089\n",
      "Epoch: 2, Batch: 520, Loss: 0.051624663174152374\n",
      "Epoch: 2, Batch: 530, Loss: 0.04674648493528366\n",
      "Epoch: 2, Batch: 540, Loss: 0.04137154668569565\n",
      "Epoch: 2, Batch: 550, Loss: 0.05265132710337639\n",
      "Epoch: 2, Batch: 560, Loss: 0.04378572478890419\n",
      "Epoch: 2, Batch: 570, Loss: 0.04283597320318222\n",
      "Epoch: 2, Batch: 580, Loss: 0.04744282364845276\n",
      "Average Training Loss at Epoch 2: 0.05111244124700643\n",
      "Average Validation Loss at Epoch 2: 0.05077354612517847\n",
      "Epoch: 3, Batch: 0, Loss: 0.04977937042713165\n",
      "Epoch: 3, Batch: 10, Loss: 0.058203645050525665\n",
      "Epoch: 3, Batch: 20, Loss: 0.07405395060777664\n",
      "Epoch: 3, Batch: 30, Loss: 0.050633128732442856\n",
      "Epoch: 3, Batch: 40, Loss: 0.04756923392415047\n",
      "Epoch: 3, Batch: 50, Loss: 0.05379028618335724\n",
      "Epoch: 3, Batch: 60, Loss: 0.045839376747608185\n",
      "Epoch: 3, Batch: 70, Loss: 0.027975760400295258\n",
      "Epoch: 3, Batch: 80, Loss: 0.04159314185380936\n",
      "Epoch: 3, Batch: 90, Loss: 0.047421034425497055\n",
      "Epoch: 3, Batch: 100, Loss: 0.05683602765202522\n",
      "Epoch: 3, Batch: 110, Loss: 0.04164356738328934\n",
      "Epoch: 3, Batch: 120, Loss: 0.050129976123571396\n",
      "Epoch: 3, Batch: 130, Loss: 0.035934362560510635\n",
      "Epoch: 3, Batch: 140, Loss: 0.052576761692762375\n",
      "Epoch: 3, Batch: 150, Loss: 0.055255308747291565\n",
      "Epoch: 3, Batch: 160, Loss: 0.05131104215979576\n",
      "Epoch: 3, Batch: 170, Loss: 0.06889888644218445\n",
      "Epoch: 3, Batch: 180, Loss: 0.0641869604587555\n",
      "Epoch: 3, Batch: 190, Loss: 0.05732846260070801\n",
      "Epoch: 3, Batch: 200, Loss: 0.05214674770832062\n",
      "Epoch: 3, Batch: 210, Loss: 0.061441175639629364\n",
      "Epoch: 3, Batch: 220, Loss: 0.049341633915901184\n",
      "Epoch: 3, Batch: 230, Loss: 0.04337893798947334\n",
      "Epoch: 3, Batch: 240, Loss: 0.0458330400288105\n",
      "Epoch: 3, Batch: 250, Loss: 0.06360483169555664\n",
      "Epoch: 3, Batch: 260, Loss: 0.03815006837248802\n",
      "Epoch: 3, Batch: 270, Loss: 0.044337548315525055\n",
      "Epoch: 3, Batch: 280, Loss: 0.046086885035037994\n",
      "Epoch: 3, Batch: 290, Loss: 0.02931049093604088\n",
      "Epoch: 3, Batch: 300, Loss: 0.036348048597574234\n",
      "Epoch: 3, Batch: 310, Loss: 0.04643974453210831\n",
      "Epoch: 3, Batch: 320, Loss: 0.07163447886705399\n",
      "Epoch: 3, Batch: 330, Loss: 0.06658440828323364\n",
      "Epoch: 3, Batch: 340, Loss: 0.0483531653881073\n",
      "Epoch: 3, Batch: 350, Loss: 0.03827353194355965\n",
      "Epoch: 3, Batch: 360, Loss: 0.07341056317090988\n",
      "Epoch: 3, Batch: 370, Loss: 0.052421800792217255\n",
      "Epoch: 3, Batch: 380, Loss: 0.055192288011312485\n",
      "Epoch: 3, Batch: 390, Loss: 0.03839181736111641\n",
      "Epoch: 3, Batch: 400, Loss: 0.049828171730041504\n",
      "Epoch: 3, Batch: 410, Loss: 0.04144326224923134\n",
      "Epoch: 3, Batch: 420, Loss: 0.040078651160001755\n",
      "Epoch: 3, Batch: 430, Loss: 0.0533825121819973\n",
      "Epoch: 3, Batch: 440, Loss: 0.05348043516278267\n",
      "Epoch: 3, Batch: 450, Loss: 0.0602140799164772\n",
      "Epoch: 3, Batch: 460, Loss: 0.03313922882080078\n",
      "Epoch: 3, Batch: 470, Loss: 0.06764683127403259\n",
      "Epoch: 3, Batch: 480, Loss: 0.05459916591644287\n"
     ]
    },
    {
     "name": "stdout",
     "output_type": "stream",
     "text": [
      "Epoch: 3, Batch: 490, Loss: 0.053408414125442505\n",
      "Epoch: 3, Batch: 500, Loss: 0.07166799157857895\n",
      "Epoch: 3, Batch: 510, Loss: 0.054046813398599625\n",
      "Epoch: 3, Batch: 520, Loss: 0.05199276655912399\n",
      "Epoch: 3, Batch: 530, Loss: 0.04696369543671608\n",
      "Epoch: 3, Batch: 540, Loss: 0.04021221399307251\n",
      "Epoch: 3, Batch: 550, Loss: 0.05244966968894005\n",
      "Epoch: 3, Batch: 560, Loss: 0.04282807186245918\n",
      "Epoch: 3, Batch: 570, Loss: 0.042078256607055664\n",
      "Epoch: 3, Batch: 580, Loss: 0.04766971617937088\n",
      "Average Training Loss at Epoch 3: 0.05096968320576956\n",
      "Average Validation Loss at Epoch 3: 0.051033896623715144\n"
     ]
    }
   ],
   "source": [
    "train_losses = []\n",
    "test_losses = []\n",
    "test_f1_scores = []\n",
    "\n",
    "model_save_dir = \"saved_models\"\n",
    "os.makedirs(model_save_dir, exist_ok=True)\n",
    "\n",
    "for epoch in range(3):  # Example epoch count\n",
    "    model.train()\n",
    "    total_loss = 0\n",
    "    for batch_idx, batch in enumerate(train_loader):\n",
    "        inputs, labels = batch\n",
    "        inputs = {k: v.to(device) for k, v in inputs.items()}\n",
    "        labels = labels.to(device)\n",
    "\n",
    "        optimizer.zero_grad()\n",
    "        outputs = model(**inputs, labels=labels)\n",
    "        loss = outputs.loss\n",
    "        loss.backward()\n",
    "        optimizer.step()\n",
    "\n",
    "        total_loss += loss.item()\n",
    "\n",
    "        # Logging for each batch\n",
    "        if batch_idx % 10 == 0:  # Log every 10 batches\n",
    "            print(f\"Epoch: {epoch + 1}, Batch: {batch_idx}, Loss: {loss.item()}\")\n",
    "            batch_save_path = os.path.join(model_save_dir, f\"epoch_{epoch + 1}.pt\")\n",
    "            torch.save(model.state_dict(), batch_save_path)\n",
    "    avg_train_loss = total_loss / len(train_loader)\n",
    "    train_losses.append(avg_train_loss)\n",
    "    print(f\"Average Training Loss at Epoch {epoch + 1}: {avg_train_loss}\")\n",
    "\n",
    "    # Evaluation loop\n",
    "    model.eval()\n",
    "    total_loss = 0\n",
    "    with torch.no_grad():\n",
    "        for batch_idx, batch in enumerate(test_loader):\n",
    "            inputs, labels = batch\n",
    "            inputs = {k: v.to(device) for k, v in inputs.items()}\n",
    "            labels = labels.to(device)\n",
    "\n",
    "            outputs = model(**inputs, labels=labels)\n",
    "            loss = outputs.loss\n",
    "\n",
    "            total_loss += loss.item()\n",
    "\n",
    "    avg_test_loss = total_loss / len(test_loader)\n",
    "    test_losses.append(avg_test_loss)\n",
    "    print(f\"Average Validation Loss at Epoch {epoch + 1}: {avg_test_loss}\")"
   ]
  },
  {
   "cell_type": "code",
   "execution_count": 20,
   "metadata": {},
   "outputs": [],
   "source": [
    "loss_values = [\n",
    "    0.7015587091445923, 0.5278341174125671, 0.40939566493034363, 0.3051389157772064, 0.2334408015012741,\n",
    "    0.17955203354358673, 0.14155268669128418, 0.10849737375974655, 0.09820429235696793, 0.09147662669420242,\n",
    "    0.08891666680574417, 0.0731179416179657, 0.07221600413322449, 0.05765093117952347, 0.06846106052398682,\n",
    "    0.06881045550107956, 0.0638841837644577, 0.07177113741636276, 0.07121806591749191, 0.06269090622663498,\n",
    "    0.058961499482393265, 0.06551320105791092, 0.05547435209155083, 0.049694716930389404, 0.052042990922927856,\n",
    "    0.06804904341697693, 0.042582932859659195, 0.049016691744327545, 0.05124348774552345, 0.03256359323859215,\n",
    "    0.042120546102523804, 0.05121053755283356, 0.07234982401132584, 0.06737739592790604, 0.04988103732466698,\n",
    "    0.040515653789043427, 0.07138007134199142, 0.05199138820171356, 0.05603331699967384, 0.04044143855571747,\n",
    "    0.0506027452647686, 0.04384293779730797, 0.04215662181377411, 0.05247455835342407, 0.05370808765292168,\n",
    "    0.059415098279714584, 0.03363524377346039, 0.06828044354915619, 0.05532616004347801, 0.05527926981449127,\n",
    "    0.0719885602593422, 0.053363047540187836, 0.05168704316020012, 0.04645831137895584, 0.040060244500637054,\n",
    "    0.05212269723415375, 0.04328096657991409, 0.042274851351976395, 0.0483337938785553, 0.04932250455021858,\n",
    "    0.05842224508523941, 0.07438093423843384, 0.050186242908239365, 0.048741843551397324, 0.053725406527519226,\n",
    "    0.046948935836553574, 0.029212594032287598, 0.04110768437385559, 0.04753434658050537, 0.05667268857359886,\n",
    "    0.04342501610517502, 0.05024679750204086, 0.03559669479727745, 0.053017303347587585, 0.05462421476840973,\n",
    "    0.050983838737010956, 0.0658891424536705, 0.0636054277420044, 0.05757048726081848, 0.05167790502309799,\n",
    "    0.061290495097637177, 0.0493682324886322, 0.04349135607481003, 0.046072203665971756, 0.06551133841276169,\n",
    "    0.03750792145729065, 0.04512447863817215, 0.04715492203831673, 0.02910795621573925, 0.0381801538169384,\n",
    "    0.04831082373857498, 0.07185950130224228, 0.06851599365472794, 0.04835249111056328, 0.03856496140360832,\n",
    "    0.07376262545585632, 0.051463719457387924, 0.05536495894193649, 0.039861638098955154, 0.049954552203416824,\n",
    "    0.04129612073302269, 0.04063551500439644, 0.05393470451235771, 0.05299482122063637, 0.05982700362801552,\n",
    "    0.0324208103120327, 0.06844685226678848, 0.05375346541404724, 0.05359005555510521, 0.07145437598228455,\n",
    "    0.05328395217657089, 0.051624663174152374, 0.04674648493528366, 0.04137154668569565, 0.05265132710337639,\n",
    "    0.04378572478890419, 0.04283597320318222, 0.04744282364845276, 0.04977937042713165, 0.058203645050525665,\n",
    "    0.07405395060777664, 0.050633128732442856, 0.04756923392415047, 0.05379028618335724, 0.045839376747608185,\n",
    "    0.027975760400295258, 0.04159314185380936, 0.047421034425497055, 0.05683602765202522, 0.04164356738328934,\n",
    "    0.050129976123571396, 0.035934362560510635, 0.052576761692762375, 0.055255308747291565, 0.05131104215979576,\n",
    "    0.06889888644218445, 0.0641869604587555, 0.05732846260070801, 0.05214674770832062, 0.061441175639629364,\n",
    "    0.049341633915901184, 0.04337893798947334, 0.0458330400288105, 0.06360483169555664, 0.03815006837248802,\n",
    "    0.044337548315525055, 0.046086885035037994, 0.02931049093604088, 0.036348048597574234, 0.04643974453210831,\n",
    "    0.07163447886705399, 0.06658440828323364, 0.0483531653881073, 0.03827353194355965, 0.07341056317090988,\n",
    "    0.052421800792217255, 0.055192288011312485, 0.03839181736111641, 0.049828171730041504, 0.04144326224923134,\n",
    "    0.040078651160001755, 0.0533825121819973, 0.05348043516278267, 0.0602140799164772, 0.03313922882080078,\n",
    "    0.06764683127403259, 0.05459916591644287, 0.053408414125442505, 0.07166799157857895, 0.054046813398599625,\n",
    "    0.05199276655912399, 0.04696369543671608, 0.04021221399307251, 0.05244966968894005, 0.04282807186245918,\n",
    "    0.042078256607055664, 0.04766971617937088\n",
    "]\n"
   ]
  },
  {
   "cell_type": "code",
   "execution_count": 22,
   "metadata": {},
   "outputs": [
    {
     "data": {
      "image/png": "[encoded data removed]",
      "text/plain": [
       "<Figure size 1200x500 with 1 Axes>"
      ]
     },
     "metadata": {},
     "output_type": "display_data"
    }
   ],
   "source": [
    "plt.figure(figsize=(12, 5))\n",
    "\n",
    "plt.plot(loss_values, label='Training Loss')\n",
    "plt.title('Training Loss Over Batches')\n",
    "plt.xlabel('Epoch')\n",
    "plt.ylabel('Loss')\n",
    "plt.legend()\n",
    "\n",
    "\n",
    "plt.show()"
   ]
  },
  {
   "cell_type": "code",
   "execution_count": 143,
   "metadata": {},
   "outputs": [],
   "source": [
    "from sklearn.metrics import f1_score\n",
    "import torch\n",
    "import numpy as np\n",
    "\n",
    "model.eval()\n",
    "all_preds = []\n",
    "all_labels = []\n",
    "\n",
    "with torch.no_grad():\n",
    "    for batch in test_loader:\n",
    "        inputs, labels = batch\n",
    "        inputs = {k: v.to(device) for k, v in inputs.items()}\n",
    "        labels = labels.to(device)\n",
    "\n",
    "        outputs = model(**inputs)\n",
    "        logits = outputs.logits\n",
    "\n",
    "        probs = torch.sigmoid(logits)\n",
    "\n",
    "        preds = (probs > 0.000005).int()\n",
    "\n",
    "        all_preds.append(preds.cpu().numpy())\n",
    "        all_labels.append(labels.cpu().numpy())\n",
    "\n",
    "all_preds = np.vstack(all_preds)\n",
    "all_labels = np.vstack(all_labels)"
   ]
  },
  {
   "cell_type": "code",
   "execution_count": 144,
   "metadata": {},
   "outputs": [],
   "source": [
    "all_preds_flat = all_preds\n",
    "all_labels_flat = all_labels.reshape(all_preds.shape)"
   ]
  },
  {
   "cell_type": "code",
   "execution_count": 145,
   "metadata": {
    "scrolled": true
   },
   "outputs": [
    {
     "name": "stdout",
     "output_type": "stream",
     "text": [
      "F1 Score (Micro): 0.018763833130963973\n",
      "F1 Score (Macro): 0.018583955053691995\n",
      "Accuracy: 0.0\n",
      "Precision (Samples Avg.): 0.009470770544541702\n",
      "Recall (Samples Avg.): 0.9090909090909091\n"
     ]
    },
    {
     "name": "stderr",
     "output_type": "stream",
     "text": [
      "C:\\Users\\arkad\\AppData\\Local\\Packages\\PythonSoftwareFoundation.Python.3.10_qbz5n2kfra8p0\\LocalCache\\local-packages\\Python310\\site-packages\\sklearn\\metrics\\_classification.py:1344: UndefinedMetricWarning: Recall is ill-defined and being set to 0.0 in samples with no true labels. Use `zero_division` parameter to control this behavior.\n",
      "  _warn_prf(average, modifier, msg_start, len(result))\n"
     ]
    }
   ],
   "source": [
    "from sklearn.metrics import accuracy_score, precision_score, recall_score, f1_score\n",
    "\n",
    "f1_micro = f1_score(all_labels_flat, all_preds_flat, average='micro')  # Calculate metrics globally by counting the total true positives, false negatives, and false positives\n",
    "f1_macro = f1_score(all_labels_flat, all_preds_flat, average='macro')  # Calculate metrics for each label, and find their unweighted mean. This does not take label imbalance into account.\n",
    "\n",
    "print(f\"F1 Score (Micro): {f1_micro}\")\n",
    "print(f\"F1 Score (Macro): {f1_macro}\")\n",
    "\n",
    "accuracy = accuracy_score(all_labels_flat, all_preds_flat)\n",
    "precision = precision_score(all_labels_flat, all_preds_flat, average='samples')\n",
    "recall = recall_score(all_labels_flat, all_preds_flat, average='samples')\n",
    "\n",
    "print(f\"Accuracy: {accuracy}\")\n",
    "print(f\"Precision (Samples Avg.): {precision}\")\n",
    "print(f\"Recall (Samples Avg.): {recall}\")"
   ]
  },
  {
   "cell_type": "code",
   "execution_count": 120,
   "metadata": {},
   "outputs": [],
   "source": [
    "def mapLabels(labels_example):\n",
    "    from ast import literal_eval\n",
    "    labels = []\n",
    "    with open(\"labels.txt\", 'r', encoding='utf-8') as file:\n",
    "        labels = [literal_eval(line) for line in file][0]\n",
    "    return [name for index, name in enumerate(names) if labels_example[index] == 1]\n",
    "\n",
    "sample_index = 1007\n",
    "sample_text = dataset['text'][sample_index]\n",
    "inputs = tokenizer(sample_text, return_tensors=\"pt\", padding=True, truncation=True, max_length=512)\n",
    "labels_sample = list(dataset['labels'][sample_index][0])\n",
    "encoded_list = mapLabels(labels_sample)\n"
   ]
  },
  {
   "cell_type": "code",
   "execution_count": 121,
   "metadata": {},
   "outputs": [
    {
     "name": "stdout",
     "output_type": "stream",
     "text": [
      "Encoded list: ['zwierzęta']\n"
     ]
    }
   ],
   "source": [
    "print(\"Encoded list:\", encoded_list)"
   ]
  },
  {
   "cell_type": "code",
   "execution_count": 122,
   "metadata": {},
   "outputs": [],
   "source": [
    "inputs.pop(\"token_type_ids\", None)\n",
    "inputs = {k: v.to(device) for k, v in inputs.items()}\n",
    "with torch.no_grad():\n",
    "    outputs = model(**inputs)\n",
    "\n",
    "probs = torch.sigmoid(outputs.logits)\n",
    "threshold = 0.5\n",
    "predictions = (probs > threshold).int()"
   ]
  },
  {
   "cell_type": "code",
   "execution_count": 123,
   "metadata": {},
   "outputs": [
    {
     "data": {
      "text/plain": [
       "[]"
      ]
     },
     "execution_count": 123,
     "metadata": {},
     "output_type": "execute_result"
    }
   ],
   "source": [
    "mapLabels(predictions.tolist()[0])"
   ]
  },
  {
   "cell_type": "code",
   "execution_count": null,
   "metadata": {},
   "outputs": [],
   "source": []
  }
 ],
 "metadata": {
  "kernelspec": {
   "display_name": "Python 3 (ipykernel)",
   "language": "python",
   "name": "python3"
  },
  "language_info": {
   "codemirror_mode": {
    "name": "ipython",
    "version": 3
   },
   "file_extension": ".py",
   "mimetype": "text/x-python",
   "name": "python",
   "nbconvert_exporter": "python",
   "pygments_lexer": "ipython3",
   "version": "3.10.11"
  }
 },
 "nbformat": 4,
 "nbformat_minor": 1
}
